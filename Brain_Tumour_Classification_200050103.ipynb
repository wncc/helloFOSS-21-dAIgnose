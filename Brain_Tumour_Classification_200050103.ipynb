{
  "nbformat": 4,
  "nbformat_minor": 0,
  "metadata": {
    "colab": {
      "name": "Brain_Tumour_Classification_200050103.ipynb",
      "provenance": [],
      "collapsed_sections": []
    },
    "kernelspec": {
      "display_name": "Python 3",
      "name": "python3"
    },
    "language_info": {
      "name": "python"
    },
    "accelerator": "GPU"
  },
  "cells": [
    {
      "cell_type": "markdown",
      "metadata": {
        "id": "RWXSxFrQHMg_"
      },
      "source": [
        "<h1> Brain Tumour Classification\n",
        "\n",
        "In this Notebook you will design your own model for the identification and classification of brain tumour.\n",
        "\n",
        "The dataset can be found over <a href = \"https://drive.google.com/file/d/1IhdM-fzj-Egyy8-frVDs04LVW7Y3r4on/view?usp=sharing\">here.</a>\n",
        "\n",
        "Download the Dataset and unzip it in a Folder"
      ]
    },
    {
      "cell_type": "markdown",
      "metadata": {
        "id": "jbzWUxypHMUA"
      },
      "source": [
        "### We will first import the libraries required to load and preprocess the Dataset"
      ]
    },
    {
      "cell_type": "code",
      "metadata": {
        "id": "7RwWPuclj7xK"
      },
      "source": [
        "import pandas as pd\n",
        "import numpy as np\n",
        "from matplotlib import pyplot as plt\n",
        "import tensorflow as tf"
      ],
      "execution_count": 1,
      "outputs": []
    },
    {
      "cell_type": "code",
      "metadata": {
        "colab": {
          "base_uri": "https://localhost:8080/"
        },
        "id": "TO-E2jFBH86q",
        "outputId": "e1789eca-5601-48e9-b91a-3da4bc20d7d9"
      },
      "source": [
        "from google.colab import drive\n",
        "drive.mount('/content/drive')"
      ],
      "execution_count": 2,
      "outputs": [
        {
          "output_type": "stream",
          "name": "stdout",
          "text": [
            "Mounted at /content/drive\n"
          ]
        }
      ]
    },
    {
      "cell_type": "code",
      "metadata": {
        "colab": {
          "base_uri": "https://localhost:8080/"
        },
        "id": "h0RyXlv-Y89U",
        "outputId": "6bfb7cdc-8621-42dc-b564-400da4f9c4d9"
      },
      "source": [
        "physical_devices = tf.config.experimental.list_physical_devices('GPU')\n",
        "assert len(physical_devices) > 0, \"Not enough GPU hardware devices available\"\n",
        "config = tf.config.experimental.set_memory_growth(physical_devices[0], True)\n",
        "physical_devices"
      ],
      "execution_count": 3,
      "outputs": [
        {
          "output_type": "execute_result",
          "data": {
            "text/plain": [
              "[PhysicalDevice(name='/physical_device:GPU:0', device_type='GPU')]"
            ]
          },
          "metadata": {},
          "execution_count": 3
        }
      ]
    },
    {
      "cell_type": "markdown",
      "metadata": {
        "id": "7YAlzdRZHAqJ"
      },
      "source": [
        "\n",
        "\n",
        "<p> There are two ways to preprocess the dataset \n",
        "<ul>\n",
        "    <li> Using the <a href = \"https://www.tensorflow.org/api_docs/python/tf/keras/preprocessing/image/ImageDataGenerator#flow_from_directory\">flow_from_directory</a> function of the <a href = \"https://www.tensorflow.org/api_docs/python/tf/keras/preprocessing/image/ImageDataGenerator\">ImageDataGenerator</a> class where the data is automatically divided into classes. We can include image augmentation and preprocessing in this itself which will lead to less memory usage as the augmented images are loaded directly and not stored anywhere</li>\n",
        "    <li> Using the <a href = \"https://www.tensorflow.org/api_docs/python/tf/keras/preprocessing/image/ImageDataGenerator\">ImageDataGenerator</a> to create a data generator and dividing your data into classes on your own. In this case the generator created by you will be used in the training directly</li>\n",
        "</ul>\n",
        "<br>\n",
        "<p> Try both the approaches once. In the first approach you will need to to create a generator first and then use the <a href = \"https://www.tensorflow.org/api_docs/python/tf/keras/preprocessing/image/ImageDataGenerator#flow_from_directory\">flow_from_directory</a> function on the datagen with the path of the training or validation dataset as one of the arguments.  \n",
        "\n",
        "Feel free to choose any other methods also (<a href = \"https://www.tensorflow.org/api_docs/python/tf/data/Dataset\">Dataset</a> API)"
      ]
    },
    {
      "cell_type": "code",
      "metadata": {
        "id": "bL_shCaALquW",
        "colab": {
          "base_uri": "https://localhost:8080/"
        },
        "outputId": "89cababe-d6f6-4a00-c7dd-e5d5a4b7bedf"
      },
      "source": [
        "# method 1 as an example\n",
        "\n",
        "from tensorflow.keras.preprocessing.image import ImageDataGenerator\n",
        "\n",
        "train_gen = tf.keras.preprocessing.image.ImageDataGenerator(\n",
        "    rotation_range=30.,\n",
        "    width_shift_range=0.1,\n",
        "    height_shift_range=0.1,\n",
        "    shear_range=0.1,\n",
        "    zoom_range= 0.1,\n",
        "    horizontal_flip=True,\n",
        "    fill_mode = \"reflect\" #Data augmentation\n",
        ")\n",
        "\n",
        "val_gen = tf.keras.preprocessing.image.ImageDataGenerator(rescale=1./255)\n",
        "\n",
        "train = train_gen.flow_from_directory(\n",
        "    '/content/drive/MyDrive/helloFOSS-21-dAIgnose-main/Brain-Tumor-Classification-DataSet/Training', #training path\n",
        "    target_size=(256, 256),\n",
        "    batch_size=32,\n",
        "    class_mode = 'categorical'\n",
        ")\n",
        "\n",
        "val = val_gen.flow_from_directory(\n",
        "    '/content/drive/MyDrive/helloFOSS-21-dAIgnose-main/Brain-Tumor-Classification-DataSet/Testing', #validation path\n",
        "    target_size=(256, 256),\n",
        "    batch_size=32,\n",
        "    class_mode = 'categorical'\n",
        ")"
      ],
      "execution_count": 4,
      "outputs": [
        {
          "output_type": "stream",
          "name": "stdout",
          "text": [
            "Found 2870 images belonging to 4 classes.\n",
            "Found 394 images belonging to 4 classes.\n"
          ]
        }
      ]
    },
    {
      "cell_type": "code",
      "metadata": {
        "id": "_5ColvXPLdVW"
      },
      "source": [
        "# Try executing method 2 on your own"
      ],
      "execution_count": 5,
      "outputs": []
    },
    {
      "cell_type": "markdown",
      "metadata": {
        "id": "PUCyUb5WMIE0"
      },
      "source": [
        "<p>Next step is designing the architecture of the model\n",
        "\n",
        "Do checkout the <a href = \"https://www.tensorflow.org/api_docs/python/tf/keras/Sequential\">Sequential</a> API, <a href = \"https://www.tensorflow.org/api_docs/python/tf/keras/Model\">Model</a> API and the <a href = \"https://www.tensorflow.org/guide/keras/functional\">Functional</a> API"
      ]
    },
    {
      "cell_type": "code",
      "metadata": {
        "id": "XSEcG5vOLg8Z"
      },
      "source": [
        "model = tf.keras.Sequential()\n",
        "\n",
        "model.add(tf.keras.layers.Conv2D(64,(3,3),activation='relu', input_shape=(256, 256, 3)))\n",
        "model.add(tf.keras.layers.MaxPooling2D(2, 2))\n",
        "model.add(tf.keras.layers.BatchNormalization()) \n",
        "model.add(tf.keras.layers.Dropout(0.2))\n",
        "\n",
        "model.add(tf.keras.layers.Conv2D(64,(3,3),activation='relu')) \n",
        "model.add(tf.keras.layers.MaxPooling2D(2, 2))\n",
        "model.add(tf.keras.layers.BatchNormalization()) \n",
        "model.add(tf.keras.layers.Dropout(0.2)) \n",
        "\n",
        "model.add(tf.keras.layers.Conv2D(64,(3,3),activation='relu')) \n",
        "model.add(tf.keras.layers.MaxPooling2D(2, 2))\n",
        "model.add(tf.keras.layers.BatchNormalization()) \n",
        "model.add(tf.keras.layers.Dropout(0.2))\n",
        "\n",
        "model.add(tf.keras.layers.Conv2D(64,(3,3),activation='relu')) \n",
        "model.add(tf.keras.layers.MaxPooling2D(2, 2))\n",
        "model.add(tf.keras.layers.BatchNormalization()) \n",
        "model.add(tf.keras.layers.Dropout(0.2))\n",
        "\n",
        "model.add(tf.keras.layers.Conv2D(64,(3,3),activation='relu'))\n",
        "model.add(tf.keras.layers.BatchNormalization()) \n",
        "model.add(tf.keras.layers.Dropout(0.2))\n",
        "\n",
        "model.add(tf.keras.layers.Flatten())\n",
        "model.add(tf.keras.layers.Dense(512,activation='relu')) \n",
        "model.add(tf.keras.layers.Dense(4,activation='softmax')) \n",
        "\n",
        "#add different layers in the model using model.add(...)"
      ],
      "execution_count": 6,
      "outputs": []
    },
    {
      "cell_type": "markdown",
      "metadata": {
        "id": "-s0bU2rpNcs_"
      },
      "source": [
        "<p> Choose suitable Loss Functions, optimizers and metrics "
      ]
    },
    {
      "cell_type": "code",
      "metadata": {
        "id": "LbfMer52NWTG"
      },
      "source": [
        "model.compile(optimizer =  'adam', loss = 'categorical_crossentropy', metrics = ['accuracy'])"
      ],
      "execution_count": 7,
      "outputs": []
    },
    {
      "cell_type": "markdown",
      "metadata": {
        "id": "59ntbytYN51Y"
      },
      "source": [
        "<p> Print the model summary"
      ]
    },
    {
      "cell_type": "code",
      "metadata": {
        "id": "NzgfOJGKNo9F",
        "colab": {
          "base_uri": "https://localhost:8080/"
        },
        "outputId": "42a81318-3f7c-46f6-e86d-db94b2d7c70f"
      },
      "source": [
        "model.summary()"
      ],
      "execution_count": 8,
      "outputs": [
        {
          "output_type": "stream",
          "name": "stdout",
          "text": [
            "Model: \"sequential\"\n",
            "_________________________________________________________________\n",
            "Layer (type)                 Output Shape              Param #   \n",
            "=================================================================\n",
            "conv2d (Conv2D)              (None, 254, 254, 64)      1792      \n",
            "_________________________________________________________________\n",
            "max_pooling2d (MaxPooling2D) (None, 127, 127, 64)      0         \n",
            "_________________________________________________________________\n",
            "batch_normalization (BatchNo (None, 127, 127, 64)      256       \n",
            "_________________________________________________________________\n",
            "dropout (Dropout)            (None, 127, 127, 64)      0         \n",
            "_________________________________________________________________\n",
            "conv2d_1 (Conv2D)            (None, 125, 125, 64)      36928     \n",
            "_________________________________________________________________\n",
            "max_pooling2d_1 (MaxPooling2 (None, 62, 62, 64)        0         \n",
            "_________________________________________________________________\n",
            "batch_normalization_1 (Batch (None, 62, 62, 64)        256       \n",
            "_________________________________________________________________\n",
            "dropout_1 (Dropout)          (None, 62, 62, 64)        0         \n",
            "_________________________________________________________________\n",
            "conv2d_2 (Conv2D)            (None, 60, 60, 64)        36928     \n",
            "_________________________________________________________________\n",
            "max_pooling2d_2 (MaxPooling2 (None, 30, 30, 64)        0         \n",
            "_________________________________________________________________\n",
            "batch_normalization_2 (Batch (None, 30, 30, 64)        256       \n",
            "_________________________________________________________________\n",
            "dropout_2 (Dropout)          (None, 30, 30, 64)        0         \n",
            "_________________________________________________________________\n",
            "conv2d_3 (Conv2D)            (None, 28, 28, 64)        36928     \n",
            "_________________________________________________________________\n",
            "max_pooling2d_3 (MaxPooling2 (None, 14, 14, 64)        0         \n",
            "_________________________________________________________________\n",
            "batch_normalization_3 (Batch (None, 14, 14, 64)        256       \n",
            "_________________________________________________________________\n",
            "dropout_3 (Dropout)          (None, 14, 14, 64)        0         \n",
            "_________________________________________________________________\n",
            "conv2d_4 (Conv2D)            (None, 12, 12, 64)        36928     \n",
            "_________________________________________________________________\n",
            "batch_normalization_4 (Batch (None, 12, 12, 64)        256       \n",
            "_________________________________________________________________\n",
            "dropout_4 (Dropout)          (None, 12, 12, 64)        0         \n",
            "_________________________________________________________________\n",
            "flatten (Flatten)            (None, 9216)              0         \n",
            "_________________________________________________________________\n",
            "dense (Dense)                (None, 512)               4719104   \n",
            "_________________________________________________________________\n",
            "dense_1 (Dense)              (None, 4)                 2052      \n",
            "=================================================================\n",
            "Total params: 4,871,940\n",
            "Trainable params: 4,871,300\n",
            "Non-trainable params: 640\n",
            "_________________________________________________________________\n"
          ]
        }
      ]
    },
    {
      "cell_type": "markdown",
      "metadata": {
        "id": "KwSo6CjvN8-0"
      },
      "source": [
        "<p>Train the model using the fit method"
      ]
    },
    {
      "cell_type": "code",
      "metadata": {
        "id": "QCiNcAeZHvVL"
      },
      "source": [
        "DESIRED_ACCURACY = 0.999\n",
        "\n",
        "class myCallback_1(tf.keras.callbacks.Callback):\n",
        "    def on_epoch_end(self, epoch, logs={}):\n",
        "        if logs.get('accuracy') is not None and logs.get('accuracy') > DESIRED_ACCURACY:\n",
        "            print(\"\\nReached 99.9% accuracy so cancelling training!\")\n",
        "            self.model.stop_training = True\n",
        "        \n",
        "stop = myCallback_1()\n",
        "\n",
        "checkpoint_filepath = '/content/drive/MyDrive/helloFOSS-21-dAIgnose-main/Brain_Classification_Models'\n",
        "save = tf.keras.callbacks.ModelCheckpoint(\n",
        "    filepath=checkpoint_filepath,\n",
        "    save_weights_only=False,\n",
        "    monitor='val_accuracy',\n",
        "    mode='max',\n",
        "    save_best_only=True)"
      ],
      "execution_count": 9,
      "outputs": []
    },
    {
      "cell_type": "code",
      "metadata": {
        "id": "lX5Rx6dlOCZ6",
        "colab": {
          "base_uri": "https://localhost:8080/"
        },
        "outputId": "9af8d805-8504-45c7-8824-e61247f78b00"
      },
      "source": [
        "epochs = 50\n",
        "history = model.fit(\n",
        "    train,\n",
        "    epochs=epochs, \n",
        "    validation_data = val,\n",
        "    verbose = 1,\n",
        "    callbacks = [stop,save],\n",
        "    steps_per_epoch = 20\n",
        ")\n"
      ],
      "execution_count": 10,
      "outputs": [
        {
          "output_type": "stream",
          "name": "stdout",
          "text": [
            "Epoch 1/50\n",
            "20/20 [==============================] - 462s 22s/step - loss: 2.3325 - accuracy: 0.4778 - val_loss: 1.6961 - val_accuracy: 0.2665\n",
            "INFO:tensorflow:Assets written to: /content/drive/MyDrive/helloFOSS-21-dAIgnose-main/Brain_Classification_Models/assets\n",
            "Epoch 2/50\n",
            "20/20 [==============================] - 219s 11s/step - loss: 1.3763 - accuracy: 0.5143 - val_loss: 26.6447 - val_accuracy: 0.2665\n",
            "Epoch 3/50\n",
            "20/20 [==============================] - 170s 8s/step - loss: 0.9921 - accuracy: 0.5953 - val_loss: 23.4769 - val_accuracy: 0.2665\n",
            "Epoch 4/50\n",
            "20/20 [==============================] - 136s 7s/step - loss: 1.0097 - accuracy: 0.6125 - val_loss: 8.4161 - val_accuracy: 0.2665\n",
            "Epoch 5/50\n",
            "20/20 [==============================] - 101s 5s/step - loss: 0.9091 - accuracy: 0.6159 - val_loss: 10.4602 - val_accuracy: 0.2665\n",
            "Epoch 6/50\n",
            "20/20 [==============================] - 81s 4s/step - loss: 0.8586 - accuracy: 0.6508 - val_loss: 25.5944 - val_accuracy: 0.2665\n",
            "Epoch 7/50\n",
            "20/20 [==============================] - 72s 4s/step - loss: 0.8152 - accuracy: 0.6578 - val_loss: 14.2411 - val_accuracy: 0.2919\n",
            "INFO:tensorflow:Assets written to: /content/drive/MyDrive/helloFOSS-21-dAIgnose-main/Brain_Classification_Models/assets\n",
            "Epoch 8/50\n",
            "20/20 [==============================] - 59s 3s/step - loss: 0.7268 - accuracy: 0.7063 - val_loss: 14.7250 - val_accuracy: 0.2919\n",
            "Epoch 9/50\n",
            "20/20 [==============================] - 51s 3s/step - loss: 0.7188 - accuracy: 0.7031 - val_loss: 13.1683 - val_accuracy: 0.2919\n",
            "Epoch 10/50\n",
            "20/20 [==============================] - 40s 2s/step - loss: 0.6909 - accuracy: 0.7188 - val_loss: 15.6615 - val_accuracy: 0.2665\n",
            "Epoch 11/50\n",
            "20/20 [==============================] - 36s 2s/step - loss: 0.7499 - accuracy: 0.6825 - val_loss: 8.5000 - val_accuracy: 0.2665\n",
            "Epoch 12/50\n",
            "20/20 [==============================] - 28s 1s/step - loss: 0.7257 - accuracy: 0.7016 - val_loss: 11.3457 - val_accuracy: 0.2919\n",
            "Epoch 13/50\n",
            "20/20 [==============================] - 26s 1s/step - loss: 0.7237 - accuracy: 0.6969 - val_loss: 14.8337 - val_accuracy: 0.2919\n",
            "Epoch 14/50\n",
            "20/20 [==============================] - 26s 1s/step - loss: 0.6777 - accuracy: 0.7203 - val_loss: 19.6956 - val_accuracy: 0.2665\n",
            "Epoch 15/50\n",
            "20/20 [==============================] - 27s 1s/step - loss: 0.6755 - accuracy: 0.7381 - val_loss: 11.1773 - val_accuracy: 0.2919\n",
            "Epoch 16/50\n",
            "20/20 [==============================] - 19s 965ms/step - loss: 0.5696 - accuracy: 0.7730 - val_loss: 10.6088 - val_accuracy: 0.2893\n",
            "Epoch 17/50\n",
            "20/20 [==============================] - 18s 909ms/step - loss: 0.5487 - accuracy: 0.7859 - val_loss: 12.5268 - val_accuracy: 0.2665\n",
            "Epoch 18/50\n",
            "20/20 [==============================] - 20s 953ms/step - loss: 0.5764 - accuracy: 0.7625 - val_loss: 18.7126 - val_accuracy: 0.2665\n",
            "Epoch 19/50\n",
            "20/20 [==============================] - 19s 913ms/step - loss: 0.6031 - accuracy: 0.7734 - val_loss: 26.9237 - val_accuracy: 0.2665\n",
            "Epoch 20/50\n",
            "20/20 [==============================] - 18s 885ms/step - loss: 0.5830 - accuracy: 0.7762 - val_loss: 19.8562 - val_accuracy: 0.2665\n",
            "Epoch 21/50\n",
            "20/20 [==============================] - 18s 888ms/step - loss: 0.6009 - accuracy: 0.7812 - val_loss: 19.2546 - val_accuracy: 0.2665\n",
            "Epoch 22/50\n",
            "20/20 [==============================] - 17s 864ms/step - loss: 0.5990 - accuracy: 0.7381 - val_loss: 15.1778 - val_accuracy: 0.2919\n",
            "Epoch 23/50\n",
            "20/20 [==============================] - 17s 858ms/step - loss: 0.5533 - accuracy: 0.7762 - val_loss: 14.5922 - val_accuracy: 0.2919\n",
            "Epoch 24/50\n",
            "20/20 [==============================] - 17s 840ms/step - loss: 0.5686 - accuracy: 0.7778 - val_loss: 10.9015 - val_accuracy: 0.2538\n",
            "Epoch 25/50\n",
            "20/20 [==============================] - 17s 878ms/step - loss: 0.6358 - accuracy: 0.7375 - val_loss: 12.7226 - val_accuracy: 0.2665\n",
            "Epoch 26/50\n",
            "20/20 [==============================] - 17s 847ms/step - loss: 0.5626 - accuracy: 0.7672 - val_loss: 11.4509 - val_accuracy: 0.2919\n",
            "Epoch 27/50\n",
            "20/20 [==============================] - 16s 786ms/step - loss: 0.5244 - accuracy: 0.7952 - val_loss: 16.3717 - val_accuracy: 0.2919\n",
            "Epoch 28/50\n",
            "20/20 [==============================] - 16s 802ms/step - loss: 0.5157 - accuracy: 0.7844 - val_loss: 12.5584 - val_accuracy: 0.2919\n",
            "Epoch 29/50\n",
            "20/20 [==============================] - 16s 805ms/step - loss: 0.4961 - accuracy: 0.7937 - val_loss: 9.4956 - val_accuracy: 0.2919\n",
            "Epoch 30/50\n",
            "20/20 [==============================] - 16s 802ms/step - loss: 0.4513 - accuracy: 0.8203 - val_loss: 19.4418 - val_accuracy: 0.2919\n",
            "Epoch 31/50\n",
            "20/20 [==============================] - 16s 793ms/step - loss: 0.5007 - accuracy: 0.7953 - val_loss: 55.2548 - val_accuracy: 0.2665\n",
            "Epoch 32/50\n",
            "20/20 [==============================] - 16s 801ms/step - loss: 0.4757 - accuracy: 0.8266 - val_loss: 53.5069 - val_accuracy: 0.2665\n",
            "Epoch 33/50\n",
            "20/20 [==============================] - 16s 796ms/step - loss: 0.4279 - accuracy: 0.8266 - val_loss: 81.5366 - val_accuracy: 0.2665\n",
            "Epoch 34/50\n",
            "20/20 [==============================] - 16s 801ms/step - loss: 0.4478 - accuracy: 0.8328 - val_loss: 74.5991 - val_accuracy: 0.2665\n",
            "Epoch 35/50\n",
            "20/20 [==============================] - 16s 799ms/step - loss: 0.4828 - accuracy: 0.8125 - val_loss: 39.5721 - val_accuracy: 0.2665\n",
            "Epoch 36/50\n",
            "20/20 [==============================] - 16s 802ms/step - loss: 0.3791 - accuracy: 0.8313 - val_loss: 47.8173 - val_accuracy: 0.2665\n",
            "Epoch 37/50\n",
            "20/20 [==============================] - 16s 795ms/step - loss: 0.4152 - accuracy: 0.8500 - val_loss: 50.8977 - val_accuracy: 0.2665\n",
            "Epoch 38/50\n",
            "20/20 [==============================] - 16s 797ms/step - loss: 0.4671 - accuracy: 0.8062 - val_loss: 42.3080 - val_accuracy: 0.2665\n",
            "Epoch 39/50\n",
            "20/20 [==============================] - 16s 804ms/step - loss: 0.4137 - accuracy: 0.8328 - val_loss: 53.5536 - val_accuracy: 0.2665\n",
            "Epoch 40/50\n",
            "20/20 [==============================] - 16s 798ms/step - loss: 0.4139 - accuracy: 0.8547 - val_loss: 35.6133 - val_accuracy: 0.2665\n",
            "Epoch 41/50\n",
            "20/20 [==============================] - 16s 800ms/step - loss: 0.3993 - accuracy: 0.8453 - val_loss: 37.8031 - val_accuracy: 0.2665\n",
            "Epoch 42/50\n",
            "20/20 [==============================] - 16s 791ms/step - loss: 0.4341 - accuracy: 0.8127 - val_loss: 33.4325 - val_accuracy: 0.2665\n",
            "Epoch 43/50\n",
            "20/20 [==============================] - 16s 798ms/step - loss: 0.3722 - accuracy: 0.8516 - val_loss: 46.0680 - val_accuracy: 0.2665\n",
            "Epoch 44/50\n",
            "20/20 [==============================] - 16s 800ms/step - loss: 0.4415 - accuracy: 0.8266 - val_loss: 32.5497 - val_accuracy: 0.2665\n",
            "Epoch 45/50\n",
            "20/20 [==============================] - 16s 797ms/step - loss: 0.4442 - accuracy: 0.8438 - val_loss: 33.7158 - val_accuracy: 0.2665\n",
            "Epoch 46/50\n",
            "20/20 [==============================] - 16s 800ms/step - loss: 0.4837 - accuracy: 0.7984 - val_loss: 45.5161 - val_accuracy: 0.2665\n",
            "Epoch 47/50\n",
            "20/20 [==============================] - 16s 802ms/step - loss: 0.3506 - accuracy: 0.8578 - val_loss: 30.2000 - val_accuracy: 0.2665\n",
            "Epoch 48/50\n",
            "20/20 [==============================] - 16s 795ms/step - loss: 0.4071 - accuracy: 0.8444 - val_loss: 28.5444 - val_accuracy: 0.2665\n",
            "Epoch 49/50\n",
            "20/20 [==============================] - 16s 802ms/step - loss: 0.3662 - accuracy: 0.8609 - val_loss: 35.5666 - val_accuracy: 0.2665\n",
            "Epoch 50/50\n",
            "20/20 [==============================] - 16s 799ms/step - loss: 0.3934 - accuracy: 0.8422 - val_loss: 38.7528 - val_accuracy: 0.2665\n"
          ]
        }
      ]
    },
    {
      "cell_type": "markdown",
      "metadata": {
        "id": "h59XvQySO2d_"
      },
      "source": [
        "<p> Plot all the graphs of the losses and accuracies"
      ]
    },
    {
      "cell_type": "code",
      "metadata": {
        "id": "31E5YEL_O2Ia",
        "colab": {
          "base_uri": "https://localhost:8080/",
          "height": 545
        },
        "outputId": "fa3b6e75-1d62-4367-8a06-b2732762f0cd"
      },
      "source": [
        "import matplotlib.pyplot as plt\n",
        "acc = history.history['accuracy']\n",
        "val_acc = history.history['val_accuracy']\n",
        "loss = history.history['loss']\n",
        "val_loss = history.history['val_loss']\n",
        "\n",
        "epochs = range(len(acc))\n",
        "\n",
        "plt.plot(epochs, acc,  label='Training accuracy')\n",
        "plt.plot(epochs, val_acc, 'r', label='Validation accuracy')\n",
        "plt.title('Training and validation accuracy')\n",
        "\n",
        "plt.figure()\n",
        "\n",
        "plt.plot(epochs, loss, label='Training Loss')\n",
        "plt.plot(epochs, val_loss, 'r', label='Validation Loss')\n",
        "plt.title('Training and validation loss')\n",
        "plt.legend()\n",
        "\n",
        "\n",
        "plt.show()"
      ],
      "execution_count": 11,
      "outputs": [
        {
          "output_type": "display_data",
          "data": {
            "image/png": "[encoded data removed]",
            "text/plain": [
              "<Figure size 432x288 with 1 Axes>"
            ]
          },
          "metadata": {
            "needs_background": "light"
          }
        },
        {
          "output_type": "display_data",
          "data": {
            "image/png": "[encoded data removed]",
            "text/plain": [
              "<Figure size 432x288 with 1 Axes>"
            ]
          },
          "metadata": {
            "needs_background": "light"
          }
        }
      ]
    },
    {
      "cell_type": "code",
      "metadata": {
        "id": "NZctvc77ibss"
      },
      "source": [
        ""
      ],
      "execution_count": null,
      "outputs": []
    }
  ]
}